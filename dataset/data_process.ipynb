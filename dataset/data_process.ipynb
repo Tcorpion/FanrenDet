{
 "cells": [
  {
   "cell_type": "code",
   "execution_count": 1,
   "metadata": {},
   "outputs": [],
   "source": [
    "import cv2\n",
    "import os \n",
    "import glob\n",
    "import tqdm \n",
    "from pathlib import Path "
   ]
  },
  {
   "cell_type": "code",
   "execution_count": 15,
   "metadata": {},
   "outputs": [],
   "source": [
    "src_dirs = [\n",
    "    '/home/zyl/FastData/Tianchi/Accumu/1_images/'\n",
    "    '/home/zyl/FastData/Tianchi/Accumu/1_test_imagesa/'\n",
    "]\n",
    "dst_dirs=[\n",
    "    '/home/zyl/FastData/Tianchi/Accumu/1_images_smsize',\n",
    "    '/home/zyl/FastData/Tianchi/Accumu/1_test_imagesa_smsize',\n",
    "]\n",
    "\n",
    "def format_img_size(src_dir, dst_dir, img_size=1280.0):\n",
    "    for imgpath in tqdm.tqdm(Path(src_dir).iterdir()):\n",
    "        imgpath = str(imgpath)\n",
    "        fileid = imgpath.split('/')[-1].split('.')[0]\n",
    "        dstpath = str(Path(dst_dir) / f'{fileid}.jpg')\n",
    "        if Path(dstpath).is_file():\n",
    "            continue\n",
    "        img = cv2.imread(imgpath, 1)\n",
    "        if img is None:\n",
    "            print(f\"wrong img: {imgpath}\")\n",
    "            continue\n",
    "        h, w, c = img.shape\n",
    "        assert c == 3, f'wrong channel: {imgpath}'\n",
    "        if max(h, w) > img_size:\n",
    "            fratio =  img_size / max(h, w)\n",
    "            res_img = cv2.resize(img, None, fx=fratio, fy=fratio, interpolation=cv2.INTER_AREA)\n",
    "            cv2.imwrite(dstpath, res_img)\n",
    "        else:\n",
    "            cv2.imwrite(dstpath, img)\n"
   ]
  },
  {
   "cell_type": "code",
   "execution_count": 16,
   "metadata": {},
   "outputs": [],
   "source": [
    "import json \n",
    "import pandas as pd \n"
   ]
  },
  {
   "cell_type": "code",
   "execution_count": 27,
   "metadata": {},
   "outputs": [],
   "source": [
    "#label_csv = '/home/zyl/FastData/Tianchi/Accumu/1train_rname.csv'\n",
    "#label_df = pd.read_csv(label_csv, header=None)\n",
    "# \"\"\"\n",
    "# 列\t字段含义\t解释\n",
    "# A\tsd_uid\t条目id\n",
    "# B\tsd_add_date\t导出时间\n",
    "# C\tsd_task_id\t任务id\n",
    "# D\tsd_batch_id\t批次id\n",
    "# E\timage_name\t图片名称(注意此处与提交结果中的image_id不同)\n",
    "# F\tsd_result\t标注结果\n",
    "# \"\"\"\n",
    "\n",
    "#label_df"
   ]
  },
  {
   "cell_type": "code",
   "execution_count": 28,
   "metadata": {},
   "outputs": [],
   "source": [
    "# json_str = label_df.iloc[0, 5]\n",
    "# json.loads(json_str)"
   ]
  },
  {
   "cell_type": "code",
   "execution_count": null,
   "metadata": {},
   "outputs": [],
   "source": []
  }
 ],
 "metadata": {
  "kernelspec": {
   "display_name": "Python 3",
   "language": "python",
   "name": "python3"
  },
  "language_info": {
   "codemirror_mode": {
    "name": "ipython",
    "version": 3
   },
   "file_extension": ".py",
   "mimetype": "text/x-python",
   "name": "python",
   "nbconvert_exporter": "python",
   "pygments_lexer": "ipython3",
   "version": "3.6.9"
  }
 },
 "nbformat": 4,
 "nbformat_minor": 4
}
